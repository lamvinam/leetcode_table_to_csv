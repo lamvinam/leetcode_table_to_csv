{
 "cells": [
  {
   "cell_type": "code",
   "execution_count": 1,
   "id": "31e90046-52b3-4a98-9bee-bb5b25ff6af4",
   "metadata": {
    "collapsed": true,
    "jupyter": {
     "outputs_hidden": true
    }
   },
   "outputs": [],
   "source": [
    "import pandas as pd"
   ]
  },
  {
   "cell_type": "code",
   "execution_count": 2,
   "id": "2c681ab6-8f9f-4a0e-b404-af326c2c4861",
   "metadata": {
    "collapsed": true,
    "jupyter": {
     "outputs_hidden": true
    }
   },
   "outputs": [],
   "source": [
    "from pathlib import Path"
   ]
  },
  {
   "cell_type": "code",
   "execution_count": 17,
   "id": "049e00fe-5beb-4eef-93f3-20e89bd7a603",
   "metadata": {},
   "outputs": [
    {
     "name": "stdout",
     "output_type": "stream",
     "text": [
      "C:\\Users\\user\\Desktop\\GG DRIVE\\DA\\Jupyter Notebook\\convert_markdown_table_to_csv\\sample.txt\n"
     ]
    }
   ],
   "source": [
    "# input is a txt file\n",
    "directory = Path(r\"C:\\Users\\user\\Desktop\\GG DRIVE\\DA\\Jupyter Notebook\\convert_markdown_table_to_csv\\\\\")                 \n",
    "in_filename = Path(\"sample.txt\")\n",
    "in_path = directory / in_filename\n",
    "print(in_path)\n",
    "out_filename = Path(\"output.csv\")\n",
    "out_path = directory / out_filename"
   ]
  },
  {
   "cell_type": "code",
   "execution_count": 4,
   "id": "b4f46efb-3c24-4e93-9f2e-b10dceaa856a",
   "metadata": {
    "collapsed": true,
    "jupyter": {
     "outputs_hidden": true
    }
   },
   "outputs": [
    {
     "ename": "TypeError",
     "evalue": "'Index' object is not callable",
     "output_type": "error",
     "traceback": [
      "\u001b[1;31m---------------------------------------------------------------------------\u001b[0m",
      "\u001b[1;31mTypeError\u001b[0m                                 Traceback (most recent call last)",
      "Cell \u001b[1;32mIn[4], line 4\u001b[0m\n\u001b[0;32m      1\u001b[0m \u001b[38;5;66;03m# read the text to dataframe\u001b[39;00m\n\u001b[0;32m      2\u001b[0m \u001b[38;5;66;03m# regex is used to regconize the delimiter as single pipe surrounded by 0 or more whitespaces\u001b[39;00m\n\u001b[0;32m      3\u001b[0m df \u001b[38;5;241m=\u001b[39m pd\u001b[38;5;241m.\u001b[39mread_csv(path, sep\u001b[38;5;241m=\u001b[39m\u001b[38;5;124mr\u001b[39m\u001b[38;5;124m'\u001b[39m\u001b[38;5;124m\\\u001b[39m\u001b[38;5;124ms*\u001b[39m\u001b[38;5;124m\\\u001b[39m\u001b[38;5;124m|\u001b[39m\u001b[38;5;124m\\\u001b[39m\u001b[38;5;124ms*\u001b[39m\u001b[38;5;124m'\u001b[39m, engine\u001b[38;5;241m=\u001b[39m\u001b[38;5;124m'\u001b[39m\u001b[38;5;124mpython\u001b[39m\u001b[38;5;124m'\u001b[39m,header\u001b[38;5;241m=\u001b[39m\u001b[38;5;241m0\u001b[39m)\n\u001b[1;32m----> 4\u001b[0m \u001b[43mdf\u001b[49m\u001b[38;5;241;43m.\u001b[39;49m\u001b[43mcolumns\u001b[49m\u001b[43m(\u001b[49m\u001b[43m)\u001b[49m\n",
      "\u001b[1;31mTypeError\u001b[0m: 'Index' object is not callable"
     ]
    }
   ],
   "source": [
    "# read the text to dataframe\n",
    "# regex is used to regconize the delimiter as single pipe surrounded by 0 or more whitespaces\n",
    "df = pd.read_csv(in_path, sep=r'\\s*\\|\\s*', engine='python',header=0)"
   ]
  },
  {
   "cell_type": "code",
   "execution_count": 9,
   "id": "01a0560e-38c7-4005-95c8-4630b07e2506",
   "metadata": {},
   "outputs": [
    {
     "name": "stdout",
     "output_type": "stream",
     "text": [
      "<bound method DataFrame.info of      article_id  author_id  viewer_id   view_date\n",
      "0    ----------  ---------  ---------  ----------\n",
      "1           126         17         62  2019-07-02\n",
      "2           149         42         22  2019-06-23\n",
      "3           138         39         33  2019-07-26\n",
      "4           165         42         74  2019-07-05\n",
      "..          ...        ...        ...         ...\n",
      "496          23         18         39  2019-07-13\n",
      "497          23         18         27  2019-07-23\n",
      "498         144         66         71  2019-07-11\n",
      "499         108         19         11  2019-06-09\n",
      "500          41         23         66  2019-06-05\n",
      "\n",
      "[501 rows x 4 columns]>\n"
     ]
    }
   ],
   "source": [
    "# inspect general info\n",
    "print(df.info)"
   ]
  },
  {
   "cell_type": "code",
   "execution_count": null,
   "id": "15ca73ca-1939-4b73-94dd-9a6b1502a907",
   "metadata": {
    "collapsed": true,
    "jupyter": {
     "outputs_hidden": true
    },
    "scrolled": true
   },
   "outputs": [],
   "source": [
    "# inspect data types\n",
    "print(df.dtypes)"
   ]
  },
  {
   "cell_type": "code",
   "execution_count": 6,
   "id": "5c140eed-c396-46f4-b9cf-ede91c61d769",
   "metadata": {
    "collapsed": true,
    "jupyter": {
     "outputs_hidden": true
    }
   },
   "outputs": [
    {
     "name": "stdout",
     "output_type": "stream",
     "text": [
      "Index(['Unnamed: 0', 'article_id', 'author_id', 'viewer_id', 'view_date',\n",
      "       'Unnamed: 5'],\n",
      "      dtype='object')\n"
     ]
    },
    {
     "data": {
      "text/plain": [
       "Index(['Unnamed: 0', 'Unnamed: 5'], dtype='object')"
      ]
     },
     "execution_count": 6,
     "metadata": {},
     "output_type": "execute_result"
    }
   ],
   "source": [
    "# inspect empty columns\n",
    "print(df.columns)\n",
    "df.columns[[0,-1]]"
   ]
  },
  {
   "cell_type": "code",
   "execution_count": 7,
   "id": "05bee91f-d204-45c2-8f47-91688df76ea4",
   "metadata": {
    "collapsed": true,
    "jupyter": {
     "outputs_hidden": true
    },
    "scrolled": true
   },
   "outputs": [
    {
     "name": "stdout",
     "output_type": "stream",
     "text": [
      "Index(['article_id', 'author_id', 'viewer_id', 'view_date'], dtype='object')\n"
     ]
    }
   ],
   "source": [
    "# Drop the empty first and last columns created by leading/trailing pipes\n",
    "df.drop(columns=df.columns[[0,-1]], inplace=True)\n",
    "print(df.columns)"
   ]
  },
  {
   "cell_type": "code",
   "execution_count": 10,
   "id": "80b24975-3dbc-485b-a216-056f554ccfde",
   "metadata": {},
   "outputs": [
    {
     "name": "stdout",
     "output_type": "stream",
     "text": [
      "<bound method DataFrame.info of     article_id author_id viewer_id   view_date\n",
      "1          126        17        62  2019-07-02\n",
      "2          149        42        22  2019-06-23\n",
      "3          138        39        33  2019-07-26\n",
      "4          165        42        74  2019-07-05\n",
      "5           48        95        91  2019-06-28\n",
      "..         ...       ...       ...         ...\n",
      "496         23        18        39  2019-07-13\n",
      "497         23        18        27  2019-07-23\n",
      "498        144        66        71  2019-07-11\n",
      "499        108        19        11  2019-06-09\n",
      "500         41        23        66  2019-06-05\n",
      "\n",
      "[500 rows x 4 columns]>\n"
     ]
    }
   ],
   "source": [
    "# Delete 1st row (markdown row)\n",
    "df = df.drop(df.index[0])\n",
    "print(df.info)"
   ]
  },
  {
   "cell_type": "code",
   "execution_count": 11,
   "id": "8876557b-71a4-49f1-8f92-4583d59e5f72",
   "metadata": {},
   "outputs": [],
   "source": [
    "# Optional: Convert 'view_date' to datetime\n",
    "df['view_date'] = pd.to_datetime(df['view_date'])"
   ]
  },
  {
   "cell_type": "code",
   "execution_count": 18,
   "id": "5fd92019-72ac-4141-8498-e3614120b70d",
   "metadata": {},
   "outputs": [],
   "source": [
    "# Write to csv\n",
    "# index=False to remove auto-series index column\n",
    "df.to_csv(out_path, index=False)"
   ]
  }
 ],
 "metadata": {
  "kernelspec": {
   "display_name": "venv_jupyter_kernel",
   "language": "python",
   "name": "venv_jupyter"
  },
  "language_info": {
   "codemirror_mode": {
    "name": "ipython",
    "version": 3
   },
   "file_extension": ".py",
   "mimetype": "text/x-python",
   "name": "python",
   "nbconvert_exporter": "python",
   "pygments_lexer": "ipython3",
   "version": "3.13.2"
  }
 },
 "nbformat": 4,
 "nbformat_minor": 5
}
